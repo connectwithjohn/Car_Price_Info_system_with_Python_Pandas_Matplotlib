{
 "cells": [
  {
   "cell_type": "code",
   "execution_count": 1,
   "id": "2c1d302b",
   "metadata": {},
   "outputs": [],
   "source": [
    "dots_size = 90\n",
    "\n",
    "def started_operation(msg=\"\"):\n",
    "    output = f\"Started: {msg}...\"\n",
    "    dots = \".\" * dots_size\n",
    "    print(f\"{dots}\\n{output}\\n\")\n",
    "    \n",
    "def completed_operation():\n",
    "    dots = \".\" * dots_size\n",
    "    print(f\"\\nCompleted.\\n{dots}\\n\")\n",
    "    \n",
    "def error(msg):\n",
    "    print(f\"Error! {msg}\\n\")\n",
    "\n",
    "def menu():\n",
    "    print(f\"\"\"Please select one of the following options:\n",
    "    {\"[i]\":<8} Search by car ID\n",
    "    {\"[ii]\":<8} Search car by Cylinder\n",
    "    {\"[iii]\":<8} Search car by Body\n",
    "    {\"[iv]\":<8} Retrieve vital columns\n",
    "    {\"[v]\":<8} Sort car names alphabetically\n",
    "    {\"[vi]\":<8} Retrieve summary of sales for each car body\n",
    "    {\"[vii]\":<8} Retrieve the top 5 car sale by price and per car body\n",
    "    {\"[viii]\":<8} Retrieve the detail of cars based on your own selection\n",
    "    {\"[ix]\":<8} Display cars per fuel system using a bar chart\n",
    "    {\"[x]\":<8} Display the horsepower car sale by price using a subplot\n",
    "    {\"[xi]\":<8} Display sales percentage per body\n",
    "    \n",
    "    {\"[exit]\":<8} Exit programme\n",
    "    \"\"\")\n",
    "    selection = input(\"Enter your selection: \")\n",
    "    return selection.strip().lower()\n"
   ]
  },
  {
   "cell_type": "code",
   "execution_count": null,
   "id": "a24eac26",
   "metadata": {},
   "outputs": [],
   "source": []
  }
 ],
 "metadata": {
  "kernelspec": {
   "display_name": "Python 3 (ipykernel)",
   "language": "python",
   "name": "python3"
  },
  "language_info": {
   "codemirror_mode": {
    "name": "ipython",
    "version": 3
   },
   "file_extension": ".py",
   "mimetype": "text/x-python",
   "name": "python",
   "nbconvert_exporter": "python",
   "pygments_lexer": "ipython3",
   "version": "3.9.13"
  }
 },
 "nbformat": 4,
 "nbformat_minor": 5
}
